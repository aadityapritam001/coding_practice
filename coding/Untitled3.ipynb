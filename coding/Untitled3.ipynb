{
 "cells": [
  {
   "cell_type": "code",
   "execution_count": 1,
   "id": "b9a28835-c866-4d97-87bb-253319c66010",
   "metadata": {},
   "outputs": [],
   "source": [
    "# Could you create a class where I can apply the below-mentioned two operations as methods?\n",
    "# Sample_input1 = \"123$aAbciieeeoOoo6+\"\n",
    "# Sample_input2 =\"356*(seggeiiuuu\"\n",
    "\n",
    "# Product of all numbers in string.\n",
    "# case : 1 x 2 x 3 x 3 x  5 x 6\n",
    "\n",
    "# Dictionary of vowels as key and their count as values. Eg: {‘a’:2,’e’:3}"
   ]
  },
  {
   "cell_type": "code",
   "execution_count": null,
   "id": "9c1603ec-2edf-4fb7-9971-626644dd334b",
   "metadata": {},
   "outputs": [],
   "source": []
  },
  {
   "cell_type": "code",
   "execution_count": 4,
   "id": "9b317a80-3af2-4958-999e-3979be1d67da",
   "metadata": {},
   "outputs": [
    {
     "name": "stdout",
     "output_type": "stream",
     "text": [
      "3240\n",
      "{'a': 2, 'i': 4, 'e': 5, 'o': 4, 'u': 3}\n"
     ]
    }
   ],
   "source": [
    "class Product:\n",
    "    def __init__(self, sample1, sample2):\n",
    "        self.sample1 = sample1\n",
    "        self.sample2 = sample2\n",
    "\n",
    "    def num_product(self):\n",
    "        prod = 1\n",
    "        for val in self.sample1:\n",
    "            if val.isdigit():\n",
    "                prod = prod * int(val)\n",
    "\n",
    "        for val in self.sample2:\n",
    "            if val.isdigit():\n",
    "                prod = prod * int(val)\n",
    "\n",
    "        return prod\n",
    "\n",
    "    def vow_count(self):\n",
    "        combined_str =  self.sample1 + self.sample2\n",
    "        cnt_vow = {}\n",
    "        vowel = [\"a\",\"e\",\"i\",\"o\",\"u\"]\n",
    "        for chr in combined_str.lower():\n",
    "            if chr in vowel:\n",
    "                cnt_vow[chr] = combined_str.lower().count(chr)\n",
    "\n",
    "        return cnt_vow\n",
    "\n",
    "\n",
    "input1 = \"123$aAbciieeeoOoo6+\"\n",
    "input2 =\"356*(seggeiiuuu\"\n",
    "obj = Product(input1, input2)\n",
    "print(obj.num_product())\n",
    "print(obj.vow_count())"
   ]
  },
  {
   "cell_type": "code",
   "execution_count": null,
   "id": "7a8f25da-c429-491c-be66-ce5f51e27c03",
   "metadata": {},
   "outputs": [],
   "source": []
  }
 ],
 "metadata": {
  "kernelspec": {
   "display_name": "Python 3 (ipykernel)",
   "language": "python",
   "name": "python3"
  },
  "language_info": {
   "codemirror_mode": {
    "name": "ipython",
    "version": 3
   },
   "file_extension": ".py",
   "mimetype": "text/x-python",
   "name": "python",
   "nbconvert_exporter": "python",
   "pygments_lexer": "ipython3",
   "version": "3.12.2"
  }
 },
 "nbformat": 4,
 "nbformat_minor": 5
}
