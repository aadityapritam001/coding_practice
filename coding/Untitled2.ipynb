{
 "cells": [
  {
   "cell_type": "code",
   "execution_count": 2,
   "id": "de3879a8-d8f9-42e5-8488-ac256124c9ca",
   "metadata": {},
   "outputs": [],
   "source": [
    "# s = 10 , jump = 2\n",
    "# o/p -  10 , 8 , 6 , 4, 2, 0"
   ]
  },
  {
   "cell_type": "code",
   "execution_count": 7,
   "id": "a42d4d80-13a2-4eee-ab33-3d882bd78b23",
   "metadata": {},
   "outputs": [
    {
     "name": "stdin",
     "output_type": "stream",
     "text": [
      " 10\n",
      " 2\n"
     ]
    },
    {
     "name": "stdout",
     "output_type": "stream",
     "text": [
      "[10, 8, 6, 4, 2]\n"
     ]
    }
   ],
   "source": [
    "\n",
    "\n",
    "s = int(input())\n",
    "jump = int(input())\n",
    "\n",
    "# for i in range(s,0, -jump):\n",
    "#     print(i)\n",
    "\n",
    "print([x for x in range(s,0,-jump)])"
   ]
  },
  {
   "cell_type": "code",
   "execution_count": null,
   "id": "87e80663-c60a-4c24-a93a-a9a398a64600",
   "metadata": {},
   "outputs": [],
   "source": []
  },
  {
   "cell_type": "code",
   "execution_count": 13,
   "id": "bed55e1f-9b23-42a0-9c68-a22c09a4dd06",
   "metadata": {},
   "outputs": [
    {
     "name": "stdout",
     "output_type": "stream",
     "text": [
      "[58]\n",
      "[58, 59]\n",
      "[58, 59, 60]\n",
      "[None, 59, 60]\n",
      "Number not found 65\n",
      "[None, 59, 60]\n"
     ]
    },
    {
     "data": {
      "text/plain": [
       "[None, 59, 60]"
      ]
     },
     "execution_count": 13,
     "metadata": {},
     "output_type": "execute_result"
    }
   ],
   "source": [
    "class AB:\n",
    "    def __init__(self, lst=[]):\n",
    "        self.lst = []\n",
    "        \n",
    "    def insert(self,num):\n",
    "        self.lst.append(num)\n",
    "        print(self.lst)\n",
    "        return self.lst\n",
    "\n",
    "    def delete(self,num):\n",
    "        if num in self.lst:\n",
    "            self.lst[self.lst.index(num)] = None\n",
    "        else:\n",
    "            print(\"Number not found\", num)\n",
    "        print(self.lst)\n",
    "        return self.lst\n",
    "\n",
    "\n",
    "obj = AB()\n",
    "obj.insert(58)\n",
    "obj.insert(59)\n",
    "obj.insert(60)\n",
    "obj.delete(58)\n",
    "obj.delete(65)"
   ]
  },
  {
   "cell_type": "code",
   "execution_count": null,
   "id": "9729b74b-2b56-4249-bb45-60d7b0290269",
   "metadata": {},
   "outputs": [],
   "source": []
  }
 ],
 "metadata": {
  "kernelspec": {
   "display_name": "Python 3 (ipykernel)",
   "language": "python",
   "name": "python3"
  },
  "language_info": {
   "codemirror_mode": {
    "name": "ipython",
    "version": 3
   },
   "file_extension": ".py",
   "mimetype": "text/x-python",
   "name": "python",
   "nbconvert_exporter": "python",
   "pygments_lexer": "ipython3",
   "version": "3.12.2"
  }
 },
 "nbformat": 4,
 "nbformat_minor": 5
}
