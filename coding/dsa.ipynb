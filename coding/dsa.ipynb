{
 "cells": [
  {
   "cell_type": "code",
   "execution_count": 1,
   "id": "914ff8db-91ca-44c7-b276-22a5d4f2fe00",
   "metadata": {},
   "outputs": [],
   "source": [
    "# linked list "
   ]
  },
  {
   "cell_type": "code",
   "execution_count": 44,
   "id": "a836b18a-112f-4b2e-b917-250b09b9b421",
   "metadata": {},
   "outputs": [
    {
     "name": "stdout",
     "output_type": "stream",
     "text": [
      "<bound method Linkedlist.view_list of <__main__.Linkedlist object at 0x1073bf020>>\n",
      "<bound method Linkedlist.view_list of <__main__.Linkedlist object at 0x1073bf020>>\n"
     ]
    }
   ],
   "source": [
    "class Node:\n",
    "    def __init__(self, val=None, next=None):\n",
    "        self.val = val \n",
    "        self.next= next\n",
    "\n",
    "class Linkedlist:\n",
    "    def __init__(self, head=None):\n",
    "        self.head = None\n",
    "\n",
    "    def insert_at_begin(self,val,node):\n",
    "        if self.head is None:\n",
    "            node.val = val\n",
    "            node.next = None\n",
    "            self.head = node \n",
    "        else:\n",
    "            node.val= val \n",
    "            node.next = id(self.head)\n",
    "            self.head = node\n",
    "\n",
    "    def view_list(self):\n",
    "        self.head = self.head.next\n",
    "        print(self.head.val)\n",
    "\n",
    "        \n",
    "list = Linkedlist()\n",
    "node = Node()\n",
    "print(list.view_list)\n",
    "list.insert_at_begin(5, node)\n",
    "list.insert_at_begin(4, node)\n",
    "print(list.view_list)"
   ]
  },
  {
   "cell_type": "code",
   "execution_count": 47,
   "id": "37881ab8-ae00-4a74-a803-a5fd02170a12",
   "metadata": {},
   "outputs": [
    {
     "data": {
      "text/plain": [
       "4416323808"
      ]
     },
     "execution_count": 47,
     "metadata": {},
     "output_type": "execute_result"
    }
   ],
   "source": [
    "list.head.next"
   ]
  },
  {
   "cell_type": "code",
   "execution_count": null,
   "id": "609cf22b-cee2-4bf8-9a40-eac503de48b6",
   "metadata": {},
   "outputs": [],
   "source": []
  }
 ],
 "metadata": {
  "kernelspec": {
   "display_name": "Python 3 (ipykernel)",
   "language": "python",
   "name": "python3"
  },
  "language_info": {
   "codemirror_mode": {
    "name": "ipython",
    "version": 3
   },
   "file_extension": ".py",
   "mimetype": "text/x-python",
   "name": "python",
   "nbconvert_exporter": "python",
   "pygments_lexer": "ipython3",
   "version": "3.12.2"
  }
 },
 "nbformat": 4,
 "nbformat_minor": 5
}
