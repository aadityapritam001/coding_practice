{
 "cells": [
  {
   "cell_type": "code",
   "execution_count": 1,
   "id": "b6e6c4ca-1edc-4d36-bb0b-a99db3f6874e",
   "metadata": {},
   "outputs": [],
   "source": [
    "# Write a function to find the longest common prefix string amongst an array of strings.\n",
    "# If there is no common prefix, return an empty string \"\".\n",
    "# Input: strs = [\"flower\",\"flow\",\"flight\"]\n",
    "# Output: \"fl\""
   ]
  },
  {
   "cell_type": "code",
   "execution_count": 2,
   "id": "f5626471-0e2f-403d-9e91-fa958d4ab30b",
   "metadata": {},
   "outputs": [
    {
     "name": "stdout",
     "output_type": "stream",
     "text": [
      "flow flow\n",
      "flower flow\n",
      "flight flow\n"
     ]
    },
    {
     "data": {
      "text/plain": [
       "'flow'"
      ]
     },
     "execution_count": 2,
     "metadata": {},
     "output_type": "execute_result"
    }
   ],
   "source": [
    "lst = [\"flower\",\"flow\",\"flight\"]\n",
    "\n",
    "lst = sorted(lst,key=len)\n",
    "min_wd = lst[0]\n",
    "sub=\"\"\n",
    "for val in lst:\n",
    "    print(val,min_wd)\n",
    "    sub = val and min_wd\n",
    "\n",
    "sub"
   ]
  },
  {
   "cell_type": "code",
   "execution_count": 3,
   "id": "2f0c49be-4b21-4517-8f93-f861974431b7",
   "metadata": {},
   "outputs": [
    {
     "data": {
      "text/plain": [
       "'fl'"
      ]
     },
     "execution_count": 3,
     "metadata": {},
     "output_type": "execute_result"
    }
   ],
   "source": [
    "lst = [\"flower\",\"flow\",\"flight\"]\n",
    "\n",
    "\n",
    "# method 1:\n",
    "min_wd = sorted(lst, key = len)[0]\n",
    "\n",
    "sub = \"\"\n",
    "max_sub ={}\n",
    "for val in lst:\n",
    "    for i in range(len(min_wd)):\n",
    "        if min_wd[i] == val[i]:\n",
    "            sub+= val[i]\n",
    "            max_sub[val[i]] = sub.count(val[i])\n",
    "\n",
    "suff=\"\"\n",
    "for k,v in max_sub.items():\n",
    "    suff+= k * (v//len(lst))\n",
    "suff\n",
    "    "
   ]
  },
  {
   "cell_type": "code",
   "execution_count": 4,
   "id": "dbfd2bc7-11a0-47f5-93fc-4fa890fa3709",
   "metadata": {},
   "outputs": [
    {
     "name": "stdout",
     "output_type": "stream",
     "text": [
      "['flow', 'flower', 'flight']\n"
     ]
    },
    {
     "data": {
      "text/plain": [
       "{'f', 'l'}"
      ]
     },
     "execution_count": 4,
     "metadata": {},
     "output_type": "execute_result"
    }
   ],
   "source": [
    "# method 2:\n",
    "\n",
    "sorted_lst = sorted(lst, key = len)\n",
    "print(sorted_lst)\n",
    "common_char = set(lst[0]) & set(lst[-1])\n",
    "common_char"
   ]
  },
  {
   "cell_type": "code",
   "execution_count": 5,
   "id": "1ebd2a97-17da-4ec1-bc53-2092247cec85",
   "metadata": {},
   "outputs": [
    {
     "name": "stdout",
     "output_type": "stream",
     "text": [
      "f\n",
      "l\n"
     ]
    },
    {
     "data": {
      "text/plain": [
       "'fl'"
      ]
     },
     "execution_count": 5,
     "metadata": {},
     "output_type": "execute_result"
    }
   ],
   "source": [
    "# method 3:\n",
    "\n",
    "common_char =\"\"\n",
    "sorted_lst = sorted(lst, key = len)\n",
    "for i in range(len(sorted_lst[0])):\n",
    "    if sorted_lst[0][i]== sorted_lst[-1][i]:\n",
    "        print(sorted_lst[0][i])\n",
    "        common_char +=sorted_lst[0][i]\n",
    "\n",
    "common_char"
   ]
  },
  {
   "cell_type": "code",
   "execution_count": 6,
   "id": "dbedbc01-d284-4def-94b6-8283c488df73",
   "metadata": {},
   "outputs": [
    {
     "data": {
      "text/plain": [
       "2"
      ]
     },
     "execution_count": 6,
     "metadata": {},
     "output_type": "execute_result"
    }
   ],
   "source": [
    "# find word with minimum length in list \n",
    "lst = [\"flower\",\"flow\",\"flight\",\"fngfdgeg\",\"fd\",\"vhbkbgub\"]\n",
    "\n",
    "min_len = len(lst[0])\n",
    "for i in range(1,len(lst)-1):\n",
    "    min_len = len(lst[i]) if min_len>len(lst[i]) else min_len\n",
    "\n",
    "min_len"
   ]
  },
  {
   "cell_type": "code",
   "execution_count": 7,
   "id": "83230180-74ae-47d5-8644-c9b958d38358",
   "metadata": {},
   "outputs": [
    {
     "name": "stdin",
     "output_type": "stream",
     "text": [
      " aaditya\n"
     ]
    },
    {
     "data": {
      "text/plain": [
       "'aditya'"
      ]
     },
     "execution_count": 7,
     "metadata": {},
     "output_type": "execute_result"
    }
   ],
   "source": [
    "# Given a string S, remove consecutive duplicates. input S = \"xxyyxxxzz\", output S = \"xyxz\"\n",
    "\n",
    "inp = input()\n",
    "\n",
    "stk = \" \"\n",
    "for i in inp:\n",
    "    if stk[-1]!=i:\n",
    "        stk+=i\n",
    "\n",
    "stk[1:]"
   ]
  },
  {
   "cell_type": "code",
   "execution_count": 8,
   "id": "8e386a9a-41f3-4721-a193-8a4d59bfde2a",
   "metadata": {},
   "outputs": [
    {
     "name": "stdin",
     "output_type": "stream",
     "text": [
      " agfojepfwqe\n"
     ]
    },
    {
     "data": {
      "text/plain": [
       "'agfojepwq'"
      ]
     },
     "execution_count": 8,
     "metadata": {},
     "output_type": "execute_result"
    }
   ],
   "source": [
    "# remove duplicates element\n",
    "\n",
    "inp = input()\n",
    "stk=\"\"\n",
    "for i in inp:\n",
    "    if i not in stk:\n",
    "        stk+=i\n",
    "stk"
   ]
  },
  {
   "cell_type": "code",
   "execution_count": 66,
   "id": "3fe5e80e-6f26-4b8b-962c-b32160946388",
   "metadata": {},
   "outputs": [
    {
     "name": "stdout",
     "output_type": "stream",
     "text": [
      "0 swaping [2, 5, 9, 7, 8, 4, 3, 6]\n",
      "1 [2, 5, 9, 7, 8, 4, 3, 6]\n",
      "2 swaping [2, 5, 7, 9, 8, 4, 3, 6]\n",
      "3 swaping [2, 5, 7, 8, 9, 4, 3, 6]\n",
      "4 swaping [2, 5, 7, 8, 4, 9, 3, 6]\n",
      "5 swaping [2, 5, 7, 8, 4, 3, 9, 6]\n",
      "####################\n",
      "0 [2, 5, 7, 8, 4, 3, 9, 6]\n",
      "1 [2, 5, 7, 8, 4, 3, 9, 6]\n",
      "2 [2, 5, 7, 8, 4, 3, 9, 6]\n",
      "3 swaping [2, 5, 7, 4, 8, 3, 9, 6]\n",
      "4 swaping [2, 5, 7, 4, 3, 8, 9, 6]\n",
      "####################\n",
      "0 [2, 5, 7, 4, 3, 8, 9, 6]\n",
      "1 [2, 5, 7, 4, 3, 8, 9, 6]\n",
      "2 swaping [2, 5, 4, 7, 3, 8, 9, 6]\n",
      "3 swaping [2, 5, 4, 3, 7, 8, 9, 6]\n",
      "####################\n",
      "0 [2, 5, 4, 3, 7, 8, 9, 6]\n",
      "1 swaping [2, 4, 5, 3, 7, 8, 9, 6]\n",
      "2 swaping [2, 4, 3, 5, 7, 8, 9, 6]\n",
      "####################\n",
      "0 [2, 4, 3, 5, 7, 8, 9, 6]\n",
      "1 swaping [2, 3, 4, 5, 7, 8, 9, 6]\n",
      "####################\n",
      "0 [2, 3, 4, 5, 7, 8, 9, 6]\n",
      "####################\n",
      "####################\n"
     ]
    },
    {
     "data": {
      "text/plain": [
       "[2, 3, 4, 5, 7, 8, 9, 6]"
      ]
     },
     "execution_count": 66,
     "metadata": {},
     "output_type": "execute_result"
    }
   ],
   "source": [
    "# sorting\n",
    "inp = [5,2,9,7,8,4,3,6]\n",
    "for i in range(1,len(inp)):\n",
    "    for j in range(0, len(inp)-i-1):\n",
    "        if inp[j]>inp[j+1]:\n",
    "            inp[j], inp[j+1] = inp[j+1], inp[j]\n",
    "            print(j,\"swaping\",inp)\n",
    "        else:\n",
    "            print(j,inp)\n",
    "    print(\"#\"*20)\n",
    "inp"
   ]
  },
  {
   "cell_type": "code",
   "execution_count": 9,
   "id": "8c5a591d-d403-4e9d-90ce-7afec6f813d7",
   "metadata": {},
   "outputs": [],
   "source": [
    "# You are given an array of k lists, each list is sorted in ascending order. Merge all the lists \n",
    "# into one sorted list and return it.\n",
    "lists = [[1,4,5],[1,3,4],[2,6]]\n",
    "Output: [1,1,2,3,4,4,5,6]"
   ]
  },
  {
   "cell_type": "code",
   "execution_count": 3,
   "id": "343cdbdb-82bb-4fbd-a475-20e8071bd5cf",
   "metadata": {},
   "outputs": [
    {
     "data": {
      "text/plain": [
       "[1, 4, 5, 3, 1, 3, 4, 2, 6]"
      ]
     },
     "execution_count": 3,
     "metadata": {},
     "output_type": "execute_result"
    }
   ],
   "source": [
    "lists = [[1,4,5],3,[1,3,4],[2,6]]\n",
    "\n",
    "new_lst=[]\n",
    "for lst in lists:\n",
    "    if isinstance(lst, list):\n",
    "        new_lst += lst\n",
    "\n",
    "    else:\n",
    "        new_lst.append(lst)\n",
    "\n",
    "new_lst\n",
    "    "
   ]
  },
  {
   "cell_type": "code",
   "execution_count": null,
   "id": "a05c8455-faea-487d-b591-0eb036878a41",
   "metadata": {},
   "outputs": [],
   "source": []
  },
  {
   "cell_type": "code",
   "execution_count": 11,
   "id": "90750e26-6041-4d7a-86b8-ebee3e57bca6",
   "metadata": {},
   "outputs": [
    {
     "name": "stdout",
     "output_type": "stream",
     "text": [
      "['abc', 'raj', 'abcd', 'aaditya']\n"
     ]
    }
   ],
   "source": [
    "# arrange in ascending order \n",
    "\n",
    "st_lst = [\"abc\", \"aaditya\", \"raj\", \"abcd\"]\n",
    "\n",
    "print(sorted(st_lst, key = lambda a: len(a)))"
   ]
  },
  {
   "cell_type": "markdown",
   "id": "0501254b-c2c5-4b2b-8930-8a5a1e7d1330",
   "metadata": {},
   "source": [
    "# practice questions "
   ]
  },
  {
   "cell_type": "code",
   "execution_count": 225,
   "id": "86524032-ff64-421c-95fe-d34140f6e684",
   "metadata": {},
   "outputs": [],
   "source": [
    "# Longest Substring Without Repeating Characters\n",
    "# Longest Repeating Character Replacement\n",
    "# Smallest window in a String containing all characters of other String\n",
    "# Check whether two Strings are anagram of each other\n",
    "# print all anagrams together\n",
    "# Check if given Parentheses expression is balanced or not\n",
    "# Sentence Palindrome\n",
    "# Longest Palindromic Substring\n",
    "# Palindromic Substrings\n",
    "# Longest Common Prefix"
   ]
  },
  {
   "cell_type": "code",
   "execution_count": 12,
   "id": "176f291e-8db0-4464-8c90-50e62683b60b",
   "metadata": {},
   "outputs": [
    {
     "name": "stdout",
     "output_type": "stream",
     "text": [
      "7\n",
      "GEKSFOR 7\n"
     ]
    }
   ],
   "source": [
    "# Longest Substring Without Repeating Characters\n",
    "\n",
    "# Example 1:\n",
    "# Input=  \"ABCDEFGABEF\"\n",
    "Input = \"GEEKSFORGEEKS\"\n",
    "# Output: 7\n",
    "\n",
    "# method 1:\n",
    "print(len(set(Input)))\n",
    "\n",
    "\n",
    "# method 2:\n",
    "stk = \"\"\n",
    "for ch in Input:\n",
    "    if ch not in stk:\n",
    "        stk+=ch\n",
    "\n",
    "print(stk, len(stk))\n",
    "\n"
   ]
  },
  {
   "cell_type": "code",
   "execution_count": 13,
   "id": "e4fd6212-e727-4234-a635-1ef61f73afd4",
   "metadata": {},
   "outputs": [
    {
     "name": "stdin",
     "output_type": "stream",
     "text": [
      " geeekk\n"
     ]
    },
    {
     "name": "stdout",
     "output_type": "stream",
     "text": [
      "3\n",
      "e 3\n"
     ]
    }
   ],
   "source": [
    "# Longest Repeating Character Replacement\n",
    "# Input : str = \"geeekk\"\n",
    "# Output : e\n",
    "# Input : str = \"aaaabbcbbb\"\n",
    "# Output : a\n",
    "\n",
    "inp = input()\n",
    "\n",
    "# method 1:\n",
    "cnt={}\n",
    "for ch in inp:\n",
    "    cnt[ch] = inp.count(ch)\n",
    "\n",
    "max_cnt = max(cnt.values())\n",
    "print(max_cnt)\n",
    "for k,v in cnt.items():\n",
    "    if v == max_cnt:\n",
    "        print(k,v)\n",
    "        break\n",
    "\n",
    "## extra ##\n",
    "# reverse_dict = {v:k for k,v in cnt.items()}\n",
    "# reverse_dict"
   ]
  },
  {
   "cell_type": "code",
   "execution_count": 14,
   "id": "85f67edb-bc98-4b96-a171-0fba4f2a6026",
   "metadata": {},
   "outputs": [],
   "source": [
    "# Smallest window in a String containing all characters of other String\n",
    "\n",
    "# Input: string = “this is a test string”, pattern = “tist”\n",
    "# Output: “t stri”\n",
    "\n",
    "inp = \"this is a test string\"\n",
    "pattern = \"tist\"\n",
    "\n",
    "st =\"\"\n"
   ]
  },
  {
   "cell_type": "code",
   "execution_count": 22,
   "id": "d4571eb2-b53b-4e51-aa57-014994bf5411",
   "metadata": {},
   "outputs": [
    {
     "name": "stdout",
     "output_type": "stream",
     "text": [
      "False\n"
     ]
    }
   ],
   "source": [
    "# Check whether two Strings are anagram of each other\n",
    "\n",
    "# s1 = \"listen\"\n",
    "# s2 = \"silent\"\n",
    "s1 = \"gram\"  \n",
    "s2 = \"arm\"\n",
    "print(sorted(s1) == sorted(s2))"
   ]
  },
  {
   "cell_type": "code",
   "execution_count": 16,
   "id": "7731690b-d156-4355-815b-c6fcea927c2a",
   "metadata": {},
   "outputs": [],
   "source": [
    "# print all anagrams together\n",
    "# inp:{“cat”, “dog”, “tac”, “god”, “act”}, \n",
    "# then output may be “cat tac act dog god”.\n"
   ]
  },
  {
   "cell_type": "code",
   "execution_count": 2,
   "id": "b057f5c3-fa07-4255-8dff-aff17854b913",
   "metadata": {},
   "outputs": [
    {
     "name": "stdin",
     "output_type": "stream",
     "text": [
      " {}\n"
     ]
    },
    {
     "name": "stdout",
     "output_type": "stream",
     "text": [
      "balanced\n"
     ]
    }
   ],
   "source": [
    "# Check if given Parentheses expression is balanced or not\n",
    "# Input: str = “((()))()()” \n",
    "# Output: Balanced\n",
    "# Input: str = “())((())” \n",
    "# Output: Not Balanced \n",
    "\n",
    "open = [\"[\", \"(\", \"{\"]\n",
    "close = [\"]\", \")\", \"}\"]\n",
    "\n",
    "inp = input()\n",
    "\n",
    "stk =[]\n",
    "flg = 0\n",
    "for br in inp:\n",
    "    if br in open:\n",
    "        stk.append(br)\n",
    "    else:\n",
    "        if len(stk)>0:\n",
    "            if br ==\")\" and stk[-1]==\"(\":\n",
    "                stk.pop()\n",
    "            if br ==\"}\" and stk[-1]==\"{\":\n",
    "                stk.pop()\n",
    "            if br ==\"]\" and stk[-1]==\"[\":\n",
    "                stk.pop()\n",
    "    \n",
    "if stk==[]:\n",
    "    print(\"balanced\")\n",
    "else:\n",
    "    print(stk,\"unbalanced\")\n",
    "        "
   ]
  },
  {
   "cell_type": "code",
   "execution_count": 2,
   "id": "fc51f8e6-6894-4d42-8122-90e040c71208",
   "metadata": {},
   "outputs": [
    {
     "name": "stdin",
     "output_type": "stream",
     "text": [
      " 2 3 4 1 5\n"
     ]
    },
    {
     "data": {
      "text/plain": [
       "[1, 2, 3, 4, 5]"
      ]
     },
     "execution_count": 2,
     "metadata": {},
     "output_type": "execute_result"
    }
   ],
   "source": [
    "# sorting a list :\n",
    "\n",
    "# lst = [5,7,3,4,6,2,11,9,1]\n",
    "\n",
    "lst = [int(val) for val in input().split()]\n",
    "for i in range(len(lst)):\n",
    "    for j in range(i+1, len(lst)):\n",
    "        if lst[i]>lst[j]:\n",
    "            lst[i], lst[j] =  lst[j], lst[i]\n",
    "\n",
    "lst"
   ]
  },
  {
   "cell_type": "code",
   "execution_count": 53,
   "id": "19cbd7b9-3564-4d80-a44d-81fcc793b3a9",
   "metadata": {},
   "outputs": [
    {
     "name": "stdin",
     "output_type": "stream",
     "text": [
      " Too hot to hoot\n"
     ]
    },
    {
     "name": "stdout",
     "output_type": "stream",
     "text": [
      "pelindrome\n"
     ]
    }
   ],
   "source": [
    "# Sentence Palindrome\n",
    "\n",
    "# Input : str = \"Too hot to hoot.\"\n",
    "# Output : Sentence is palindrome.\n",
    "\n",
    "# Input : str = \"Abc def ghi jklm.\"\n",
    "# Output : Sentence is not palindrome.\n",
    "\n",
    "inp = input()\n",
    "inp = \"\".join(x.replace(\" \",\"\") for x in inp.lower())\n",
    "\n",
    "if inp == inp[::-1]:\n",
    "    print(\"pelindrome\")\n",
    "else:\n",
    "    print(\"Not pelindrome\")\n",
    "    "
   ]
  },
  {
   "cell_type": "code",
   "execution_count": 60,
   "id": "9392abe8-788e-4632-b0d0-ab78203adddd",
   "metadata": {},
   "outputs": [],
   "source": [
    "# Longest Palindromic Substring\n",
    "\n",
    "# Input: str = “forgeeks skeegfor” \n",
    "# Output: “geeksskeeg”\n"
   ]
  },
  {
   "cell_type": "code",
   "execution_count": 62,
   "id": "bb681ca4-8983-429d-8a25-82556db93cce",
   "metadata": {},
   "outputs": [
    {
     "data": {
      "text/plain": [
       "'bed'"
      ]
     },
     "execution_count": 62,
     "metadata": {},
     "output_type": "execute_result"
    }
   ],
   "source": [
    "# longest common substring in a list\n",
    "\n",
    "lst  = [\"abcdef\", \"bcdeth\", \"abekd\"]\n",
    "\n",
    "order_list = sorted(lst, key = lambda a: len(a))\n",
    "common =\"\"\n",
    "for i in range(len(order_list[0])):\n",
    "    if order_list[0][i] in order_list[-1]:\n",
    "        common+= order_list[0][i]\n",
    "common"
   ]
  },
  {
   "cell_type": "code",
   "execution_count": 6,
   "id": "f6226351-9ef6-4517-8568-e0b59e75e656",
   "metadata": {},
   "outputs": [
    {
     "name": "stdout",
     "output_type": "stream",
     "text": [
      "[1, 2, 4, 6, 7, 9]\n",
      "1 9\n",
      "4 6\n",
      "6 4\n",
      "9 1\n"
     ]
    }
   ],
   "source": [
    "# Find Out Pairs with given sum in an array in python\n",
    "\n",
    "lst = [1,4,7,9,6,2]\n",
    "sm = 10\n",
    "\n",
    "order_lst = sorted(lst)\n",
    "print(order_lst)\n",
    "ln = len(order_lst)\n",
    "for i in range(ln):\n",
    "    # print(order_lst[i], order_lst[-i-1])\n",
    "    if order_lst[i]+order_lst[-i-1] == sm:\n",
    "        print(order_lst[i],order_lst[-i-1])\n",
    "    \n"
   ]
  },
  {
   "cell_type": "code",
   "execution_count": 8,
   "id": "11a813df-c9b6-4574-b19d-bc19c79f0213",
   "metadata": {},
   "outputs": [
    {
     "name": "stdin",
     "output_type": "stream",
     "text": [
      " 5 32 45 4 12 18 25\n"
     ]
    },
    {
     "data": {
      "text/plain": [
       "1"
      ]
     },
     "execution_count": 8,
     "metadata": {},
     "output_type": "execute_result"
    }
   ],
   "source": [
    "# find min difference between two elements of an array\n",
    "\n",
    "arr = [int(val) for val in input().split()]\n",
    "\n",
    "[1,4,7,9,6,2]\n",
    "\n",
    "order_arr = sorted(arr)\n",
    "\n",
    "min_diff = min(order_arr[-1]-order_arr[-2], order_arr[1]- order_arr[0])\n",
    "min_diff"
   ]
  },
  {
   "cell_type": "code",
   "execution_count": 82,
   "id": "b8226fd8-3613-42f4-a828-053ade5f8a17",
   "metadata": {},
   "outputs": [
    {
     "name": "stdin",
     "output_type": "stream",
     "text": [
      " abaab\n"
     ]
    },
    {
     "data": {
      "text/plain": [
       "['baab', 'aab', 'ab', 'b']"
      ]
     },
     "execution_count": 82,
     "metadata": {},
     "output_type": "execute_result"
    }
   ],
   "source": [
    "# Input : str = \"abaab\"\n",
    "# Output: 3\n",
    "# Explanation : \n",
    "# All palindrome substring are :\n",
    "#  \"aba\" , \"aa\" , \"baab\"\n",
    "\n",
    "inp = input()\n",
    "pnd=[]\n",
    "ln = len(inp)\n",
    "\n",
    "for i in range(ln):\n",
    "    printinp[i:] == inp[ln-i:0:-1]:\n",
    "        \n",
    "\n",
    "pnd"
   ]
  },
  {
   "cell_type": "code",
   "execution_count": 11,
   "id": "3fdba6dd-cc9c-4af2-a2a3-609145d54eeb",
   "metadata": {},
   "outputs": [],
   "source": [
    "inventory = []"
   ]
  },
  {
   "cell_type": "code",
   "execution_count": 20,
   "id": "5d4476a4-fd05-484d-a178-ccea47defac2",
   "metadata": {},
   "outputs": [
    {
     "name": "stdout",
     "output_type": "stream",
     "text": [
      "Choose following operations\n",
      "\n",
      "1. Add items\n",
      "2. Purchase items\n",
      "3. Remove\n"
     ]
    },
    {
     "name": "stdin",
     "output_type": "stream",
     "text": [
      " 2\n",
      "Enter item id to purchase:\t 2\n",
      "enter the quantity 1\n"
     ]
    },
    {
     "data": {
      "text/plain": [
       "{'message': 'Purchased successfully!',\n",
       " 'data': [{'id': 2, 'name': 'Sampoo', 'quantity': 3, 'rate': 2.0}]}"
      ]
     },
     "execution_count": 20,
     "metadata": {},
     "output_type": "execute_result"
    }
   ],
   "source": [
    "\n",
    "\n",
    "\n",
    "# Items addition \n",
    "def add_items():\n",
    "    item_dict = {}\n",
    "    id = int(input(\"Item id:\\t\"))\n",
    "    name = input(\"Item name/names:\\t\")\n",
    "    quantity = int(input(\"Qauntity:\\t\"))\n",
    "    rate = float(input(\"Rate:\\t\"))\n",
    "\n",
    "    if name and quantity and rate:\n",
    "        item_dict[\"id\"] = id\n",
    "        item_dict[\"name\"] = name\n",
    "        item_dict[\"quantity\"] = quantity\n",
    "        item_dict[\"rate\"] = rate\n",
    "        \n",
    "    inventory.append(item_dict)\n",
    "    return {\"message\":\"item added successfully\", \"data\":item_dict}\n",
    "\n",
    "\n",
    "def purchase_item(item_id, item_quantity):\n",
    "    purchased_item = []\n",
    "    for data in inventory:\n",
    "        if data[\"id\"]==item_id:\n",
    "            data[\"quantity\"]-= item_quantity\n",
    "            purchased_item.append(data)\n",
    "            \n",
    "        inventory[inventory.index(data)] = data\n",
    "        \n",
    "    return {\"message\":\"Purchased successfully!\", \"data\":purchased_item}\n",
    "    \n",
    "    \n",
    "    \n",
    "def remove_item(id):\n",
    "    removed_item=[]\n",
    "    for data in inventory:\n",
    "        if data[\"id\"] == id:\n",
    "            removed_item.append(data)\n",
    "            inventory[inventory.index(data)] = None\n",
    "            \n",
    "    return {\"message\":\"item removed successfully!\", \"data\": removed_item}\n",
    "    \n",
    "def main():\n",
    "    print(\"Choose following operations\\n\")\n",
    "    print(\"1. Add items\\n2. Purchase items\\n3. Remove\")\n",
    "    \n",
    "    user_inp = int(input())\n",
    "    if user_inp ==1:\n",
    "        return add_items()\n",
    "        \n",
    "    if user_inp ==2:\n",
    "        item_id = int(input(\"Enter item id to purchase:\\t\"))\n",
    "        quant = int(input(\"enter the quantity\"))\n",
    "        return purchase_item(item_id, quant)\n",
    "        \n",
    "    if user_inp == 3:\n",
    "        item_id = int(input(\"Enter item id to remove:\\t\"))\n",
    "        return remove_item(item_id)\n",
    "        \n",
    "    else:\n",
    "        return \n",
    "    \n",
    "    \n",
    "main()"
   ]
  },
  {
   "cell_type": "code",
   "execution_count": 19,
   "id": "a4216d2e-6f5c-4307-97c4-bee1c433398d",
   "metadata": {},
   "outputs": [
    {
     "data": {
      "text/plain": [
       "[{'id': 1, 'name': 'soap', 'quantity': 0, 'rate': 100.0},\n",
       " {'id': 2, 'name': 'Sampoo', 'quantity': 4, 'rate': 2.0}]"
      ]
     },
     "execution_count": 19,
     "metadata": {},
     "output_type": "execute_result"
    }
   ],
   "source": [
    "inventory"
   ]
  },
  {
   "cell_type": "code",
   "execution_count": 95,
   "id": "314c7c02-3110-4710-a03f-472b132e5292",
   "metadata": {},
   "outputs": [
    {
     "data": {
      "text/plain": [
       "[4, 6]"
      ]
     },
     "execution_count": 95,
     "metadata": {},
     "output_type": "execute_result"
    }
   ],
   "source": [
    "m = [[2,3,4,5,6],[2,4,6,9,12],[4,6,8,10,12],[2,4,6,8,10]]\n",
    "\n",
    "# find min value occur in every nested list\n",
    "\n",
    "\n",
    "start = m[0]\n",
    "ans = []\n",
    "for i in range(len(start)):\n",
    "    res = start[i]\n",
    "    for lst in m[1:]:\n",
    "        if res not in lst:\n",
    "            res = -1\n",
    "            break\n",
    "    if res>0:\n",
    "        ans.append(res)\n",
    "\n",
    "ans"
   ]
  },
  {
   "cell_type": "code",
   "execution_count": null,
   "id": "c74fe1e8-6145-44e1-a22b-7aaca1777cc8",
   "metadata": {},
   "outputs": [],
   "source": []
  },
  {
   "cell_type": "markdown",
   "id": "35c1f0c8-6e6c-445f-88c1-2f893bc5dbe1",
   "metadata": {},
   "source": [
    "# 15 july 2024"
   ]
  },
  {
   "cell_type": "code",
   "execution_count": 15,
   "id": "8570b9e1-c0bc-458d-9c05-dea1579e5a3e",
   "metadata": {},
   "outputs": [
    {
     "name": "stdout",
     "output_type": "stream",
     "text": [
      "olleH\n"
     ]
    }
   ],
   "source": [
    "# reverse a string \n",
    "\n",
    "st = \"Hello\"\n",
    "print(st[::-1])"
   ]
  },
  {
   "cell_type": "code",
   "execution_count": 22,
   "id": "0acc49bd-a9b3-434d-9cd2-dddc073bbb88",
   "metadata": {},
   "outputs": [
    {
     "name": "stdout",
     "output_type": "stream",
     "text": [
      "['Hi', 'I', 'am', 'Aaditya']\n",
      "['Aaditya', 'am', 'I', 'Hi']\n",
      "Aaditya am I Hi\n"
     ]
    }
   ],
   "source": [
    "# reverse sentence \n",
    "sent = \"Hi I am Aaditya\"\n",
    "\n",
    "print(sent.split())\n",
    "print(sent.split()[::-1])\n",
    "print(\" \".join(word for word in sent.split()[::-1]))"
   ]
  },
  {
   "cell_type": "code",
   "execution_count": null,
   "id": "8c1431fe-ecbf-4b65-98e5-b8793020cab1",
   "metadata": {},
   "outputs": [],
   "source": []
  }
 ],
 "metadata": {
  "kernelspec": {
   "display_name": "Python 3 (ipykernel)",
   "language": "python",
   "name": "python3"
  },
  "language_info": {
   "codemirror_mode": {
    "name": "ipython",
    "version": 3
   },
   "file_extension": ".py",
   "mimetype": "text/x-python",
   "name": "python",
   "nbconvert_exporter": "python",
   "pygments_lexer": "ipython3",
   "version": "3.12.2"
  }
 },
 "nbformat": 4,
 "nbformat_minor": 5
}
